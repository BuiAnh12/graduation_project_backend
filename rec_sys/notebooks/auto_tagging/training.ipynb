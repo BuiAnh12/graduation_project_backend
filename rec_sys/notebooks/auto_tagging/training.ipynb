{
 "cells": [
  {
   "cell_type": "code",
   "execution_count": 1,
   "id": "256b7d4d",
   "metadata": {},
   "outputs": [
    {
     "name": "stderr",
     "output_type": "stream",
     "text": [
      "c:\\Users\\buian\\.conda\\envs\\dev\\lib\\site-packages\\tqdm\\auto.py:21: TqdmWarning: IProgress not found. Please update jupyter and ipywidgets. See https://ipywidgets.readthedocs.io/en/stable/user_install.html\n",
      "  from .autonotebook import tqdm as notebook_tqdm\n"
     ]
    }
   ],
   "source": [
    "from datasets import load_dataset, concatenate_datasets\n",
    "from transformers import AutoTokenizer, AutoModelForSequenceClassification, TrainingArguments, Trainer\n",
    "import numpy as np\n",
    "from sklearn.metrics import accuracy_score, f1_score, precision_score, recall_score"
   ]
  },
  {
   "cell_type": "code",
   "execution_count": 2,
   "id": "27a9233d",
   "metadata": {},
   "outputs": [],
   "source": [
    "# Load base dataset\n",
    "dataset = load_dataset(\"scottymcgee/food-text-dataset\")"
   ]
  },
  {
   "cell_type": "code",
   "execution_count": 3,
   "id": "6c3da99e",
   "metadata": {},
   "outputs": [],
   "source": [
    "# Load Vietnamese CSV\n",
    "vietnamese_dataset = load_dataset(\"csv\", data_files=\"vietnamese_food_english.csv\")[\"train\"]"
   ]
  },
  {
   "cell_type": "code",
   "execution_count": 4,
   "id": "373f3ff4",
   "metadata": {},
   "outputs": [],
   "source": [
    "# Combine base sets\n",
    "base_dataset = concatenate_datasets([dataset[\"original\"], dataset[\"augmented\"]])\n",
    "updated_train = concatenate_datasets([base_dataset, vietnamese_dataset]).shuffle(seed=42)"
   ]
  },
  {
   "cell_type": "code",
   "execution_count": 5,
   "id": "08b4b49f",
   "metadata": {},
   "outputs": [],
   "source": [
    "# Split for train/test\n",
    "updated_splits = updated_train.train_test_split(test_size=0.15, seed=42)\n",
    "train_dataset = updated_splits[\"train\"]\n",
    "test_dataset = updated_splits[\"test\"]"
   ]
  },
  {
   "cell_type": "code",
   "execution_count": 6,
   "id": "dd847d26",
   "metadata": {},
   "outputs": [],
   "source": [
    "# Label setup\n",
    "unique_labels = sorted(list(set(base_dataset[\"label\"])))\n"
   ]
  },
  {
   "cell_type": "code",
   "execution_count": 7,
   "id": "d7e6b951",
   "metadata": {},
   "outputs": [
    {
     "name": "stdout",
     "output_type": "stream",
     "text": [
      "✅ Old + new labels: ['American', 'Chinese', 'Italian', 'Mexican', 'Thai', 'Vietnamese']\n"
     ]
    }
   ],
   "source": [
    "# Add Vietnamese if missing\n",
    "if \"Vietnamese\" not in unique_labels:\n",
    "    unique_labels.append(\"Vietnamese\")\n",
    "\n",
    "print(\"✅ Old + new labels:\", unique_labels)"
   ]
  },
  {
   "cell_type": "code",
   "execution_count": 8,
   "id": "49c2bf46",
   "metadata": {},
   "outputs": [
    {
     "name": "stdout",
     "output_type": "stream",
     "text": [
      "Label2id mapping: {'American': 0, 'Chinese': 1, 'Italian': 2, 'Mexican': 3, 'Thai': 4, 'Vietnamese': 5}\n"
     ]
    }
   ],
   "source": [
    "# Label mapping\n",
    "label2id = {label: i for i, label in enumerate(unique_labels)}\n",
    "id2label = {i: label for label, i in label2id.items()}\n",
    "\n",
    "print(\"Label2id mapping:\", label2id)"
   ]
  },
  {
   "cell_type": "code",
   "execution_count": 9,
   "id": "88ce45f5",
   "metadata": {},
   "outputs": [],
   "source": [
    "# Encode string labels to numeric\n",
    "def encode_label(example):\n",
    "    example[\"label\"] = label2id[example[\"label\"]]\n",
    "    return example"
   ]
  },
  {
   "cell_type": "code",
   "execution_count": 10,
   "id": "364244a0",
   "metadata": {},
   "outputs": [],
   "source": [
    "train_dataset = train_dataset.map(encode_label)\n",
    "test_dataset = test_dataset.map(encode_label)"
   ]
  },
  {
   "cell_type": "code",
   "execution_count": 11,
   "id": "8dfbe811",
   "metadata": {},
   "outputs": [],
   "source": [
    "model_name = \"maryzhang/24679-text-distilbert-food-cuisine-classifier\"\n",
    "tokenizer = AutoTokenizer.from_pretrained(model_name)"
   ]
  },
  {
   "cell_type": "code",
   "execution_count": 12,
   "id": "b3caa6c5",
   "metadata": {},
   "outputs": [],
   "source": [
    "# Preprocess text\n",
    "def preprocess_function(examples):\n",
    "    return tokenizer(examples[\"text\"], truncation=True, padding=\"max_length\", max_length=256)\n"
   ]
  },
  {
   "cell_type": "code",
   "execution_count": 13,
   "id": "09d78b8a",
   "metadata": {},
   "outputs": [
    {
     "name": "stderr",
     "output_type": "stream",
     "text": [
      "Map: 100%|██████████| 171/171 [00:00<00:00, 3019.94 examples/s]\n"
     ]
    }
   ],
   "source": [
    "tokenized_train = train_dataset.map(preprocess_function, batched=True)\n",
    "tokenized_test = test_dataset.map(preprocess_function, batched=True)"
   ]
  },
  {
   "cell_type": "code",
   "execution_count": 14,
   "id": "c06c1548",
   "metadata": {},
   "outputs": [],
   "source": [
    "# # Load model with updated labels\n",
    "# model = AutoModelForSequenceClassification.from_pretrained(\n",
    "#     model_name,\n",
    "#     num_labels=len(unique_labels),\n",
    "#     id2label=id2label,\n",
    "#     label2id=label2id\n",
    "# )\n",
    "# this lead to mismatch size of the trainning"
   ]
  },
  {
   "cell_type": "code",
   "execution_count": 15,
   "id": "f8701e8d",
   "metadata": {},
   "outputs": [
    {
     "name": "stderr",
     "output_type": "stream",
     "text": [
      "Some weights of DistilBertForSequenceClassification were not initialized from the model checkpoint at maryzhang/24679-text-distilbert-food-cuisine-classifier and are newly initialized because the shapes did not match:\n",
      "- classifier.bias: found shape torch.Size([5]) in the checkpoint and torch.Size([6]) in the model instantiated\n",
      "- classifier.weight: found shape torch.Size([5, 768]) in the checkpoint and torch.Size([6, 768]) in the model instantiated\n",
      "You should probably TRAIN this model on a down-stream task to be able to use it for predictions and inference.\n"
     ]
    },
    {
     "name": "stdout",
     "output_type": "stream",
     "text": [
      "✅ Model loaded with reinitialized classification head for 6 labels.\n"
     ]
    }
   ],
   "source": [
    "from transformers import AutoConfig\n",
    "\n",
    "# Load config and update num_labels\n",
    "config = AutoConfig.from_pretrained(model_name)\n",
    "config.num_labels = len(unique_labels)\n",
    "config.id2label = id2label\n",
    "config.label2id = label2id\n",
    "\n",
    "# Load model but ignore mismatched classifier layer\n",
    "model = AutoModelForSequenceClassification.from_pretrained(\n",
    "    model_name,\n",
    "    config=config,\n",
    "    ignore_mismatched_sizes=True  # <— key fix\n",
    ")\n",
    "\n",
    "print(\"✅ Model loaded with reinitialized classification head for\", len(unique_labels), \"labels.\")\n"
   ]
  },
  {
   "cell_type": "code",
   "execution_count": 16,
   "id": "58875ab9",
   "metadata": {},
   "outputs": [],
   "source": [
    "# Metrics\n",
    "def compute_metrics(pred):\n",
    "    labels = pred.label_ids\n",
    "    preds = np.argmax(pred.predictions, axis=1)\n",
    "    return {\n",
    "        \"accuracy\": accuracy_score(labels, preds),\n",
    "        \"f1\": f1_score(labels, preds, average=\"weighted\"),\n",
    "        \"precision\": precision_score(labels, preds, average=\"weighted\"),\n",
    "        \"recall\": recall_score(labels, preds, average=\"weighted\"),\n",
    "    }"
   ]
  },
  {
   "cell_type": "code",
   "execution_count": 20,
   "id": "adfbbeea",
   "metadata": {},
   "outputs": [],
   "source": [
    "training_args = TrainingArguments(\n",
    "    output_dir=\"./results\",\n",
    "    overwrite_output_dir=True,     # allow overwriting checkpoints\n",
    "    do_train=True,                 # enable training\n",
    "    do_eval=True,                  # enable evaluation\n",
    "    learning_rate=2e-5,\n",
    "    per_device_train_batch_size=16,\n",
    "    per_device_eval_batch_size=16,\n",
    "    num_train_epochs=3,\n",
    "    weight_decay=0.01,\n",
    "    logging_dir=\"./logs\",          # where TensorBoard logs go\n",
    "    logging_first_step=True,\n",
    "    logging_steps=100,             # log every 100 steps\n",
    "    save_steps=500,                # save checkpoint every 500 steps\n",
    "    save_total_limit=1,            # keep only the last checkpoint\n",
    "    seed=42,\n",
    "    fp16=False,                    # only enable if Apex is installed\n",
    ")\n"
   ]
  },
  {
   "cell_type": "code",
   "execution_count": 21,
   "id": "fe373bf5",
   "metadata": {},
   "outputs": [
    {
     "name": "stderr",
     "output_type": "stream",
     "text": [
      "C:\\Users\\buian\\AppData\\Local\\Temp\\ipykernel_17860\\2889800418.py:2: FutureWarning: `tokenizer` is deprecated and will be removed in version 5.0.0 for `Trainer.__init__`. Use `processing_class` instead.\n",
      "  trainer = Trainer(\n"
     ]
    }
   ],
   "source": [
    "# Trainer setup\n",
    "trainer = Trainer(\n",
    "    model=model,\n",
    "    args=training_args,\n",
    "    train_dataset=tokenized_train,\n",
    "    eval_dataset=tokenized_test,\n",
    "    tokenizer=tokenizer,\n",
    "    compute_metrics=compute_metrics,\n",
    ")"
   ]
  },
  {
   "cell_type": "code",
   "execution_count": 22,
   "id": "01b2779e",
   "metadata": {},
   "outputs": [
    {
     "name": "stderr",
     "output_type": "stream",
     "text": [
      "c:\\Users\\buian\\.conda\\envs\\dev\\lib\\site-packages\\torch\\utils\\data\\dataloader.py:666: UserWarning: 'pin_memory' argument is set as true but no accelerator is found, then device pinned memory won't be used.\n",
      "  warnings.warn(warn_msg)\n"
     ]
    },
    {
     "data": {
      "text/html": [
       "\n",
       "    <div>\n",
       "      \n",
       "      <progress value='183' max='183' style='width:300px; height:20px; vertical-align: middle;'></progress>\n",
       "      [183/183 11:18, Epoch 3/3]\n",
       "    </div>\n",
       "    <table border=\"1\" class=\"dataframe\">\n",
       "  <thead>\n",
       " <tr style=\"text-align: left;\">\n",
       "      <th>Step</th>\n",
       "      <th>Training Loss</th>\n",
       "    </tr>\n",
       "  </thead>\n",
       "  <tbody>\n",
       "    <tr>\n",
       "      <td>1</td>\n",
       "      <td>1.925500</td>\n",
       "    </tr>\n",
       "    <tr>\n",
       "      <td>100</td>\n",
       "      <td>0.508400</td>\n",
       "    </tr>\n",
       "  </tbody>\n",
       "</table><p>"
      ],
      "text/plain": [
       "<IPython.core.display.HTML object>"
      ]
     },
     "metadata": {},
     "output_type": "display_data"
    },
    {
     "name": "stderr",
     "output_type": "stream",
     "text": [
      "c:\\Users\\buian\\.conda\\envs\\dev\\lib\\site-packages\\torch\\utils\\data\\dataloader.py:666: UserWarning: 'pin_memory' argument is set as true but no accelerator is found, then device pinned memory won't be used.\n",
      "  warnings.warn(warn_msg)\n"
     ]
    },
    {
     "data": {
      "text/html": [
       "\n",
       "    <div>\n",
       "      \n",
       "      <progress value='11' max='11' style='width:300px; height:20px; vertical-align: middle;'></progress>\n",
       "      [11/11 00:07]\n",
       "    </div>\n",
       "    "
      ],
      "text/plain": [
       "<IPython.core.display.HTML object>"
      ]
     },
     "metadata": {},
     "output_type": "display_data"
    },
    {
     "name": "stdout",
     "output_type": "stream",
     "text": [
      "{'eval_loss': 0.04271969571709633, 'eval_accuracy': 1.0, 'eval_f1': 1.0, 'eval_precision': 1.0, 'eval_recall': 1.0, 'eval_runtime': 8.9831, 'eval_samples_per_second': 19.036, 'eval_steps_per_second': 1.225, 'epoch': 3.0}\n"
     ]
    }
   ],
   "source": [
    "# Train and evaluate\n",
    "trainer.train()\n",
    "results = trainer.evaluate()\n",
    "print(results)"
   ]
  },
  {
   "cell_type": "code",
   "execution_count": 23,
   "id": "102464a7",
   "metadata": {},
   "outputs": [],
   "source": [
    "# Save updated model\n",
    "trainer.save_model(\"./distilbert-food-cuisine-updated\")"
   ]
  }
 ],
 "metadata": {
  "kernelspec": {
   "display_name": "dev",
   "language": "python",
   "name": "python3"
  },
  "language_info": {
   "codemirror_mode": {
    "name": "ipython",
    "version": 3
   },
   "file_extension": ".py",
   "mimetype": "text/x-python",
   "name": "python",
   "nbconvert_exporter": "python",
   "pygments_lexer": "ipython3",
   "version": "3.10.16"
  }
 },
 "nbformat": 4,
 "nbformat_minor": 5
}
